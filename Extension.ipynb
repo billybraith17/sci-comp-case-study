{
  "cells": [
    {
      "cell_type": "code",
      "execution_count": 1,
      "metadata": {
        "collapsed": true,
        "id": "s3ATqac9lI6-"
      },
      "outputs": [],
      "source": [
        "import matplotlib.pyplot as plt\n",
        "import numpy as np\n",
        "import torch\n",
        "import torch.nn as nn\n",
        "import torch.optim as opt\n",
        "from torch.autograd import Variable"
      ]
    },
    {
      "cell_type": "code",
      "execution_count": 2,
      "outputs": [
        {
          "output_type": "stream",
          "name": "stdout",
          "text": [
            "grid =  tensor([0.0000, 0.2500, 0.5000, 0.7500, 1.0000])\n",
            "x =  tensor([[0.2500, 0.5000, 0.7500],\n",
            "        [0.2500, 0.5000, 0.7500],\n",
            "        [0.2500, 0.5000, 0.7500]])\n",
            "y =  tensor([[0.2500, 0.2500, 0.2500],\n",
            "        [0.5000, 0.5000, 0.5000],\n",
            "        [0.7500, 0.7500, 0.7500]])\n",
            "concatenate =  tensor([[0.2500, 0.2500],\n",
            "        [0.5000, 0.2500],\n",
            "        [0.7500, 0.2500],\n",
            "        [0.2500, 0.5000],\n",
            "        [0.5000, 0.5000],\n",
            "        [0.7500, 0.5000],\n",
            "        [0.2500, 0.7500],\n",
            "        [0.5000, 0.7500],\n",
            "        [0.7500, 0.7500]])\n",
            "boundary =  tensor([[0.0000, 0.0000],\n",
            "        [0.0000, 0.2500],\n",
            "        [0.0000, 0.5000],\n",
            "        [0.0000, 0.7500],\n",
            "        [0.0000, 1.0000]])\n"
          ]
        }
      ],
      "source": [
        "# letting n = 5\n",
        "grid = torch.linspace(0, 1, 5)\n",
        "x, y = torch.meshgrid(grid[1:-1], grid[1:-1], indexing='xy')\n",
        "print(\"grid = \",grid)\n",
        "print(\"x = \", x)\n",
        "print(\"y = \", y)\n",
        "# print(x,y)\n",
        "# print(\"flatten, reshape = \", x.flatten().reshape((5-2)**2, 1))\n",
        "print(\"concatenate = \", torch.cat((x.flatten().reshape((5-2)**2, 1), y.flatten().reshape((5-2)**2, 1)), 1))\n",
        "print(\"boundary = \", torch.cat((torch.zeros_like(grid).reshape(5, 1), grid.reshape(5, 1)), 1))\n",
        "# torch.cat((x,x))"
      ],
      "metadata": {
        "pycharm": {
          "name": "#%%\n"
        },
        "colab": {
          "base_uri": "https://localhost:8080/"
        },
        "id": "ZnKaPTMglI7A",
        "outputId": "765659f0-513e-4f0e-d0f4-64a6cad79d72"
      }
    },
    {
      "cell_type": "code",
      "execution_count": 3,
      "outputs": [
        {
          "output_type": "stream",
          "name": "stdout",
          "text": [
            "concatenate =  tensor([[0.0000, 0.0000],\n",
            "        [0.2500, 0.0000],\n",
            "        [0.5000, 0.0000],\n",
            "        [0.7500, 0.0000],\n",
            "        [1.0000, 0.0000],\n",
            "        [0.0000, 0.2500],\n",
            "        [0.2500, 0.2500],\n",
            "        [0.5000, 0.2500],\n",
            "        [0.7500, 0.2500],\n",
            "        [1.0000, 0.2500],\n",
            "        [0.0000, 0.5000],\n",
            "        [0.2500, 0.5000],\n",
            "        [0.5000, 0.5000],\n",
            "        [0.7500, 0.5000],\n",
            "        [1.0000, 0.5000],\n",
            "        [0.0000, 0.7500],\n",
            "        [0.2500, 0.7500],\n",
            "        [0.5000, 0.7500],\n",
            "        [0.7500, 0.7500],\n",
            "        [1.0000, 0.7500],\n",
            "        [0.0000, 1.0000],\n",
            "        [0.2500, 1.0000],\n",
            "        [0.5000, 1.0000],\n",
            "        [0.7500, 1.0000],\n",
            "        [1.0000, 1.0000]])\n",
            "concatenate =  tensor([[0.2500, 0.2500, 0.2500],\n",
            "        [0.2500, 0.2500, 0.5000],\n",
            "        [0.2500, 0.2500, 0.7500],\n",
            "        [0.5000, 0.2500, 0.2500],\n",
            "        [0.5000, 0.2500, 0.5000],\n",
            "        [0.5000, 0.2500, 0.7500],\n",
            "        [0.7500, 0.2500, 0.2500],\n",
            "        [0.7500, 0.2500, 0.5000],\n",
            "        [0.7500, 0.2500, 0.7500],\n",
            "        [0.2500, 0.5000, 0.2500],\n",
            "        [0.2500, 0.5000, 0.5000],\n",
            "        [0.2500, 0.5000, 0.7500],\n",
            "        [0.5000, 0.5000, 0.2500],\n",
            "        [0.5000, 0.5000, 0.5000],\n",
            "        [0.5000, 0.5000, 0.7500],\n",
            "        [0.7500, 0.5000, 0.2500],\n",
            "        [0.7500, 0.5000, 0.5000],\n",
            "        [0.7500, 0.5000, 0.7500],\n",
            "        [0.2500, 0.7500, 0.2500],\n",
            "        [0.2500, 0.7500, 0.5000],\n",
            "        [0.2500, 0.7500, 0.7500],\n",
            "        [0.5000, 0.7500, 0.2500],\n",
            "        [0.5000, 0.7500, 0.5000],\n",
            "        [0.5000, 0.7500, 0.7500],\n",
            "        [0.7500, 0.7500, 0.2500],\n",
            "        [0.7500, 0.7500, 0.5000],\n",
            "        [0.7500, 0.7500, 0.7500]])\n",
            "boundary =  tensor([[0.0000, 0.0000, 1.0000],\n",
            "        [0.2500, 0.0000, 1.0000],\n",
            "        [0.5000, 0.0000, 1.0000],\n",
            "        [0.7500, 0.0000, 1.0000],\n",
            "        [1.0000, 0.0000, 1.0000],\n",
            "        [0.0000, 0.2500, 1.0000],\n",
            "        [0.2500, 0.2500, 1.0000],\n",
            "        [0.5000, 0.2500, 1.0000],\n",
            "        [0.7500, 0.2500, 1.0000],\n",
            "        [1.0000, 0.2500, 1.0000],\n",
            "        [0.0000, 0.5000, 1.0000],\n",
            "        [0.2500, 0.5000, 1.0000],\n",
            "        [0.5000, 0.5000, 1.0000],\n",
            "        [0.7500, 0.5000, 1.0000],\n",
            "        [1.0000, 0.5000, 1.0000],\n",
            "        [0.0000, 0.7500, 1.0000],\n",
            "        [0.2500, 0.7500, 1.0000],\n",
            "        [0.5000, 0.7500, 1.0000],\n",
            "        [0.7500, 0.7500, 1.0000],\n",
            "        [1.0000, 0.7500, 1.0000],\n",
            "        [0.0000, 1.0000, 1.0000],\n",
            "        [0.2500, 1.0000, 1.0000],\n",
            "        [0.5000, 1.0000, 1.0000],\n",
            "        [0.7500, 1.0000, 1.0000],\n",
            "        [1.0000, 1.0000, 1.0000]])\n"
          ]
        }
      ],
      "source": [
        "# testing stuff out\n",
        "\n",
        "# letting n = 5\n",
        "n=5\n",
        "\n",
        "grid = torch.linspace(0, 1, n)\n",
        "x, y , z = torch.meshgrid(grid[1:-1], grid[1:-1], grid[1:-1], indexing='xy')\n",
        "# print(\"grid = \",grid)\n",
        "# print(\"x = \", x)\n",
        "# print(\"y = \", y)\n",
        "# print(\"z = \", z)\n",
        "\n",
        "a, b = torch.meshgrid(grid, grid, indexing='xy')\n",
        "# this gives the coordinates that span the surfaces\n",
        "print(\"concatenate = \", torch.cat((a.flatten().reshape(n**2, 1), b.flatten().reshape(n**2, 1)), 1))\n",
        "\n",
        "# print(x,y)\n",
        "# print(\"flatten, reshape = \", x.flatten().reshape((n-2)**3, 1))\n",
        "print(\"concatenate = \", torch.cat((x.flatten().reshape((n-2)**3, 1), y.flatten().reshape((n-2)**3, 1), z.flatten().reshape((n-2)**3, 1)), 1))\n",
        "# repreating boundary values that have are on more than 1 edge in the end but shouldn't matter\n",
        "print(\"boundary = \", torch.cat((a.flatten().reshape(n**2, 1), b.flatten().reshape(n**2, 1), torch.ones(n**2,1)), 1))"
      ],
      "metadata": {
        "pycharm": {
          "name": "#%%\n"
        },
        "colab": {
          "base_uri": "https://localhost:8080/"
        },
        "id": "5REyzeowlI7C",
        "outputId": "6014efad-8577-4821-d789-f5994613a56c"
      }
    },
    {
      "cell_type": "code",
      "execution_count": 4,
      "outputs": [],
      "source": [
        "# define common used parameters\n",
        "\n",
        "# training points\n",
        "\n",
        "n_training_list = [16]\n",
        "space_range = [0, 1]\n",
        "\n",
        "# parameters for training\n",
        "\n",
        "H = 256\n",
        "batch_size_interior = 16\n",
        "batch_size_boundary = 4\n",
        "num_epochs = 100\n",
        "lr = 0.01\n",
        "lr_decay_steps = int(num_epochs/10)\n",
        "lr_decay_rate = 0.5\n",
        "\n",
        "# dimension of variable and number of equations in the system\n",
        "\n",
        "n_inputs = 3\n",
        "n_outputs = 1"
      ],
      "metadata": {
        "pycharm": {
          "name": "#%%\n"
        },
        "id": "zrw9SRY_lI7D"
      }
    },
    {
      "cell_type": "code",
      "execution_count": 5,
      "outputs": [],
      "source": [
        "# define the class for the NN model\n",
        "\n",
        "class NN_DE(nn.Module):\n",
        "\n",
        "    def __init__(self, H, n_inputs, n_outputs):\n",
        "        super(NN_DE, self).__init__()\n",
        "        self.activation = nn.ELU()\n",
        "        self.fc1 = nn.Linear(n_inputs, H)\n",
        "        self.fc2 = nn.Linear(H, H)\n",
        "        # self.fc3 = nn.Linear(H, H)\n",
        "        # self.fc4 = nn.Linear(H, H)\n",
        "        # self.fc5 = nn.Linear(H, H)\n",
        "        self.fc6 = nn.Linear(H, n_outputs)\n",
        "\n",
        "    def forward(self, x):\n",
        "        x = self.fc1(x)\n",
        "        x = self.activation(x)\n",
        "        x = self.fc2(x)\n",
        "        # x = self.activation(x)\n",
        "        # x = self.fc3(x)\n",
        "        # x = self.activation(x)\n",
        "        # x = self.fc4(x)\n",
        "        # x = self.activation(x)\n",
        "        # x = self.fc5(x)\n",
        "        x = self.activation(x)\n",
        "        x = self.fc6(x)\n",
        "        return x"
      ],
      "metadata": {
        "pycharm": {
          "name": "#%%\n"
        },
        "id": "ldP5sM84lI7E"
      }
    },
    {
      "cell_type": "code",
      "execution_count": 6,
      "outputs": [],
      "source": [
        "def training_vanilla(loss_function, boundary_function, n_inputs, n_outputs,\n",
        "                     n_training, num_epochs, batch_size_interior, batch_size_boundary,\n",
        "                     H, gamma, lr, lr_decay_steps, lr_decay_rate):\n",
        "    # initialise the model\n",
        "\n",
        "    model = NN_DE(H, n_inputs, n_outputs)\n",
        "\n",
        "    optimiser = opt.Adam(model.parameters(), lr=lr)\n",
        "    scheduler = opt.lr_scheduler.StepLR(optimiser, step_size=lr_decay_steps, gamma=lr_decay_rate)\n",
        "\n",
        "    model.train()\n",
        "\n",
        "    # grid = torch.linspace(space_range[0], space_range[1], n)\n",
        "    # # ignoring the boundary indices and creating grids of x and y coordinates\n",
        "    # x, y , z = torch.meshgrid(grid[1:-1], grid[1:-1], grid[1:-1], indexing='xy')\n",
        "    # # gives (n-2)**2 x 2 array of coordinates of all interior mesh points, going through y then x\n",
        "    # grid_interior = torch.cat((x.flatten().reshape((n-2)**2, 1), y.flatten().reshape((n-2)**2, 1)), 1)\n",
        "    # # gives n x 2 array of coordinates of all boundary mesh points\n",
        "    # grid_boundary_1 = torch.cat((torch.zeros_like(grid).reshape(n, 1), grid.reshape(n, 1)), 1)\n",
        "    # grid_boundary_2 = torch.cat((space_range[1]*torch.ones_like(grid).reshape(n, 1), grid.reshape(n, 1)), 1)\n",
        "    # grid_boundary_3 = torch.cat((grid.reshape(n, 1), torch.zeros_like(grid).reshape(n, 1)), 1)\n",
        "    # grid_boundary_4 = torch.cat((grid.reshape(n, 1), space_range[1]*torch.ones_like(grid).reshape(n, 1)), 1)\n",
        "    # # gives 4n x 2 array of coordinates of boundary values\n",
        "    # grid_boundary = torch.cat((grid_boundary_1, grid_boundary_2, grid_boundary_3, grid_boundary_4))\n",
        "\n",
        "    # this gives the coordinates that span the surfaces\n",
        "    # print(\"concatenate = \", torch.cat((a.flatten().reshape(n ** 2, 1), b.flatten().reshape(n ** 2, 1)), 1))\n",
        "\n",
        "    grid = torch.linspace(space_range[0], space_range[1], n)\n",
        "    x, y, z = torch.meshgrid(grid[1:-1], grid[1:-1], grid[1:-1], indexing='xy')\n",
        "    a, b = torch.meshgrid(grid, grid, indexing='xy')\n",
        "    grid_interior = torch.cat((x.flatten().reshape((n - 2) ** 3, 1), y.flatten().reshape((n - 2) ** 3, 1),z.flatten().reshape((n - 2) ** 3, 1)), 1)\n",
        "    grid_boundary_1 = torch.cat((torch.zeros(n**2, 1), a.flatten().reshape(n**2, 1), b.flatten().reshape(n ** 2, 1)), 1)\n",
        "    grid_boundary_2 = torch.cat((torch.ones(n ** 2, 1), a.flatten().reshape(n ** 2, 1), b.flatten().reshape(n ** 2, 1)),1)\n",
        "    grid_boundary_3 = torch.cat((a.flatten().reshape(n ** 2, 1), torch.zeros(n ** 2, 1), b.flatten().reshape(n ** 2, 1)), 1)\n",
        "    grid_boundary_4 = torch.cat((a.flatten().reshape(n ** 2, 1), torch.ones(n ** 2, 1), b.flatten().reshape(n ** 2, 1)),1)\n",
        "    grid_boundary_5 = torch.cat((a.flatten().reshape(n ** 2, 1), b.flatten().reshape(n ** 2, 1), torch.zeros(n ** 2, 1)), 1)\n",
        "    grid_boundary_6 = torch.cat((a.flatten().reshape(n ** 2, 1), b.flatten().reshape(n ** 2, 1), torch.ones(n ** 2, 1)),1)\n",
        "    grid_boundary = torch.cat((grid_boundary_1, grid_boundary_2, grid_boundary_3, grid_boundary_4, grid_boundary_5, grid_boundary_6))\n",
        "\n",
        "    train_loss_vanilla = []\n",
        "\n",
        "    for epoch in range(num_epochs):\n",
        "        # loss in each epoch\n",
        "        train_loss_vanilla_epoch = []\n",
        "\n",
        "        # shuffle the data\n",
        "        index_interior = torch.randperm(len(grid_interior))\n",
        "        train_interior = grid_interior[index_interior]\n",
        "\n",
        "        for i in range(0, len(train_interior), batch_size_interior):\n",
        "            # mini-batch\n",
        "            batch_interior = train_interior[i:i + batch_size_interior, :]\n",
        "            batch_interior = Variable(batch_interior, requires_grad=True)\n",
        "            # gives a batch_size_boundary x 1 array of random integers in [0,len(grid_boundary)]\n",
        "            index_boundary = torch.randint(len(grid_boundary), (batch_size_boundary,))\n",
        "            batch_boundary = grid_boundary[index_boundary, :]\n",
        "            batch_boundary = Variable(batch_boundary, requires_grad=True)\n",
        "\n",
        "            loss = loss_function(batch_interior, batch_boundary, boundary_function, space_range, model, gamma)\n",
        "\n",
        "            optimiser.zero_grad()\n",
        "\n",
        "            loss.backward()\n",
        "\n",
        "            optimiser.step()\n",
        "\n",
        "            train_loss_vanilla_epoch.append(loss)\n",
        "\n",
        "        train_loss_vanilla.append(sum(train_loss_vanilla_epoch) / (n_training / batch_size_interior))\n",
        "\n",
        "        scheduler.step()\n",
        "\n",
        "        if (epoch % lr_decay_steps == (lr_decay_steps - 1)):\n",
        "            print('Epochs %i/%i. Loss: %.8f.' % (epoch + 1, num_epochs, train_loss_vanilla[-1]))\n",
        "\n",
        "    return train_loss_vanilla, model\n",
        "\n",
        "\n",
        "def training_modified(loss_function, prediction2output, n_inputs, n_outputs,\n",
        "                      n_training, num_epochs, batch_size,\n",
        "                      H, lr, lr_decay_steps, lr_decay_rate):\n",
        "\n",
        "    # initialise the model\n",
        "\n",
        "    model = NN_DE(H, n_inputs, n_outputs)\n",
        "\n",
        "    optimiser = opt.Adam(model.parameters(), lr=lr)\n",
        "    scheduler = opt.lr_scheduler.StepLR(optimiser, step_size=lr_decay_steps, gamma=lr_decay_rate)\n",
        "\n",
        "    model.train()\n",
        "\n",
        "    grid = torch.linspace(space_range[0], space_range[1], n)\n",
        "    x, y, z = torch.meshgrid(grid, grid, grid, indexing='xy')\n",
        "    grid_all = torch.cat((x.flatten().reshape(n**3, 1), y.flatten().reshape(n**3, 1), z.flatten().reshape(n**3, 1)), 1)\n",
        "    train_loss_modified = []\n",
        "\n",
        "    for epoch in range(num_epochs):\n",
        "\n",
        "        train_loss_modified_epoch = []\n",
        "\n",
        "        index = torch.randperm(len(grid_all))\n",
        "        train_all = grid_all[index]\n",
        "\n",
        "        for i in range(0, len(train_all), batch_size):\n",
        "\n",
        "            batch_all = train_all[i:i+batch_size, :]\n",
        "            batch_all = Variable(batch_all, requires_grad=True)\n",
        "\n",
        "            loss = loss_function(batch_all, prediction2output, model)\n",
        "\n",
        "            optimiser.zero_grad()\n",
        "\n",
        "            loss.backward()\n",
        "\n",
        "            optimiser.step()\n",
        "\n",
        "            train_loss_modified_epoch.append(loss*len(batch_all))\n",
        "\n",
        "        train_loss_modified.append(sum(train_loss_modified_epoch)/len(train_all))\n",
        "\n",
        "        scheduler.step()\n",
        "\n",
        "        if ( epoch%lr_decay_steps==(lr_decay_steps-1) ):\n",
        "\n",
        "            print('Epochs %i/%i. Loss: %.8f.' %(epoch+1, num_epochs, train_loss_modified[-1]))\n",
        "\n",
        "    return train_loss_modified, model"
      ],
      "metadata": {
        "pycharm": {
          "name": "#%%\n"
        },
        "id": "xpP3hAxMlI7F"
      }
    },
    {
      "cell_type": "code",
      "execution_count": 7,
      "outputs": [
        {
          "output_type": "stream",
          "name": "stdout",
          "text": [
            "Epochs 10/100. Loss: 1456.80444336.\n",
            "Epochs 20/100. Loss: 516.38055420.\n",
            "Epochs 30/100. Loss: 394.46630859.\n",
            "Epochs 40/100. Loss: 315.79284668.\n",
            "Epochs 50/100. Loss: 257.67196655.\n",
            "Epochs 60/100. Loss: 234.59234619.\n",
            "Epochs 70/100. Loss: 224.29190063.\n",
            "Epochs 80/100. Loss: 212.06686401.\n",
            "Epochs 90/100. Loss: 212.66189575.\n",
            "Epochs 100/100. Loss: 215.93310547.\n"
          ]
        }
      ],
      "source": [
        "# solving problem 5 from the paper\n",
        "\n",
        "# vanilla model\n",
        "\n",
        "# weight of terms about boundary condition in the loss function\n",
        "\n",
        "gamma = 1000\n",
        "\n",
        "# boundary conditions (in the order left->right->bottom->top)\n",
        "\n",
        "# Give a boundary_batch_size x 3 array of the batch of boundary grid points and a vector of your endpoints and this returns the boundary values of the function at these endpoints\n",
        "# our functions are always 0 at the boundary\n",
        "def boundary_function(x, space_range):\n",
        "    values = torch.zeros(len(x), 1)\n",
        "    for i in range(len(x)):\n",
        "        values[i] = 0\n",
        "    return values\n",
        "\n",
        "# define the loss function for vanilla model\n",
        "\n",
        "def loss_vanilla(batch_interior, batch_boundary, boundary_function, space_range, model, gamma):\n",
        "\n",
        "    # compute the predicted y in the interior and on the boundary\n",
        "    y_predict_interior = model(batch_interior)\n",
        "    y_predict_boundary = model(batch_boundary)\n",
        "\n",
        "    # compute the target value on the boundary\n",
        "    y_target_boundary = boundary_function(batch_boundary, space_range)\n",
        "\n",
        "    # compute the gradient of y_hat w.r.t. x\n",
        "    grad = torch.autograd.grad(y_predict_interior, batch_interior, grad_outputs=torch.ones_like(y_predict_interior),\n",
        "                                 retain_graph=True, create_graph=True)[0]\n",
        "    # gives the second derivative wrt each of the variables. Each row is wrt different variable and each col represents a point in the batch\n",
        "    hess = torch.autograd.grad(grad, batch_interior, grad_outputs=torch.ones_like(grad),\n",
        "                                 retain_graph=True, create_graph=True)[0]\n",
        "\n",
        "    # loss = interior_difference**2 + boundary_difference**2\n",
        "    # loss = (((hess[:, 0] + hess[:, 1] + hess[:, 2])**2).mean()\n",
        "    #         + (gamma*((y_predict_boundary - y_target_boundary)**2)).mean())\n",
        "    loss = ((hess[:, 0] + hess[:, 1] + hess[:, 2] - (\n",
        "            -20*batch_interior[:, 1]*(1-batch_interior[:, 1])*batch_interior[:, 2]*(1-batch_interior[:, 2])\n",
        "            -20*batch_interior[:, 0]*(1-batch_interior[:, 0])*batch_interior[:, 2]*(1-batch_interior[:, 2])\n",
        "             -20*batch_interior[:, 0]*(1-batch_interior[:, 0])*batch_interior[:, 1]*(1-batch_interior[:, 1])  ))**2).mean() \\\n",
        "           + (gamma*((y_predict_boundary - y_target_boundary)**2)).mean()\n",
        "    return loss\n",
        "\n",
        "models_vanilla = []\n",
        "\n",
        "# train_loss_vanilla, model_vanilla = training_vanilla(loss_vanilla, boundary_function, n_inputs, n_outputs,\n",
        "#                                                          n, num_epochs, batch_size_interior, batch_size_boundary,\n",
        "#                                                          H, gamma, lr, lr_decay_steps, lr_decay_rate)\n",
        "# models_vanilla.append(model_vanilla)\n",
        "\n",
        "for n in n_training_list:\n",
        "\n",
        "    train_loss_vanilla, model_vanilla = training_vanilla(loss_vanilla, boundary_function, n_inputs, n_outputs,\n",
        "                                                         n, num_epochs, batch_size_interior, batch_size_boundary,\n",
        "                                                         H, gamma, lr, lr_decay_steps, lr_decay_rate)\n",
        "    models_vanilla.append(model_vanilla)"
      ],
      "metadata": {
        "pycharm": {
          "name": "#%%\n"
        },
        "id": "Eg6kbS87lI7H",
        "colab": {
          "base_uri": "https://localhost:8080/"
        },
        "outputId": "7ea41d07-e708-4383-ab97-4cc2f94c92ba"
      }
    },
    {
      "cell_type": "code",
      "execution_count": 8,
      "outputs": [
        {
          "output_type": "stream",
          "name": "stdout",
          "text": [
            "tensor(0.0004, grad_fn=<MeanBackward0>)\n",
            "tensor([[0.0000],\n",
            "        [0.0179],\n",
            "        [0.0332],\n",
            "        [0.0460],\n",
            "        [0.0562],\n",
            "        [0.0639],\n",
            "        [0.0690],\n",
            "        [0.0716],\n",
            "        [0.0716],\n",
            "        [0.0690],\n",
            "        [0.0639],\n",
            "        [0.0562],\n",
            "        [0.0460],\n",
            "        [0.0332],\n",
            "        [0.0179],\n",
            "        [0.0000]])\n",
            "tensor([[ 0.0309],\n",
            "        [ 0.0290],\n",
            "        [ 0.0257],\n",
            "        [ 0.0208],\n",
            "        [ 0.0142],\n",
            "        [ 0.0059],\n",
            "        [-0.0042],\n",
            "        [-0.0157],\n",
            "        [-0.0198],\n",
            "        [-0.0099],\n",
            "        [-0.0011],\n",
            "        [ 0.0062],\n",
            "        [ 0.0119],\n",
            "        [ 0.0160],\n",
            "        [ 0.0186],\n",
            "        [ 0.0195]], grad_fn=<SliceBackward0>)\n"
          ]
        }
      ],
      "source": [
        "n=16\n",
        "grid = torch.linspace(space_range[0], space_range[1], n)\n",
        "x, y, z = torch.meshgrid(grid, grid, grid, indexing='xy')\n",
        "grid_all = torch.cat((x.flatten().reshape(n**3, 1), y.flatten().reshape(n**3, 1),z.flatten().reshape(n**3, 1)), 1)\n",
        "prediction = models_vanilla[0](grid_all)\n",
        "# print(sum(prediction)/n**3)\n",
        "\n",
        "x = x.flatten().reshape(n**3, 1)\n",
        "y = y.flatten().reshape(n**3, 1)\n",
        "z = z.flatten().reshape(n**3, 1)\n",
        "exact_sol = 10*x*(1-x)*y*(1-y)*z*(1-z)\n",
        "# x = x[1331]\n",
        "# y = y[460]\n",
        "# z = z[548]\n",
        "# print(exact_sol - models_vanilla[0](torch.tensor((x,y,z))))\n",
        "print(((exact_sol - prediction)**2).mean())\n",
        "# print(((prediction)**2).mean())\n",
        "# print(exact_sol**2.mean())\n",
        "\n",
        "# it looks like the prediction mirrors the exact solution here but just doesn't vary enough\n",
        "print(exact_sol[2000:2016])\n",
        "print(prediction[1000:1016])\n",
        "# print(exact_sol[15000:15005] - prediction[15000:15005])\n",
        "# print(exact_sol[0:5] - prediction[0:5])"
      ],
      "metadata": {
        "pycharm": {
          "name": "#%%\n"
        },
        "id": "JZl75IMelI7J",
        "outputId": "c572a5e8-99af-4472-fb75-7dcce23a4ce4",
        "colab": {
          "base_uri": "https://localhost:8080/"
        }
      }
    },
    {
      "cell_type": "code",
      "execution_count": null,
      "outputs": [],
      "source": [
        "grid = torch.linspace(space_range[0], space_range[1], n)\n",
        "x, y, z = torch.meshgrid(grid[1:-1], grid[1:-1], grid[1:-1], indexing='xy')\n",
        "grid_all = torch.cat((x.flatten().reshape(n ** 3, 1), y.flatten().reshape(n ** 3, 1),z.flatten().reshape(n ** 3, 1)), 1)\n",
        "prediction = models_vanilla[-1](grid_all)\n",
        "prediction = prediction.detach().numpy().reshape(n, n)\n",
        "x = x.detach().numpy()\n",
        "y = y.detach().numpy()\n",
        "\n",
        "\n",
        "grid = torch.linspace(space_range[0], space_range[1], n)\n",
        "x, y = torch.meshgrid(grid, grid, indexing='xy')\n",
        "grid_all = torch.cat((x.flatten().reshape(n**2, 1), y.flatten().reshape(n**2, 1)), 1)\n",
        "prediction = models_vanilla[-1](grid_all)\n",
        "prediction = prediction.detach().numpy().reshape(n, n)\n",
        "x = x.detach().numpy()\n",
        "y = y.detach().numpy()\n",
        "fig = plt.figure(figsize=[16, 8])\n",
        "ax1 = fig.add_subplot(1, 3, 1, projection='3d')\n",
        "ax1.contour3D(x, y, prediction, 50, cmap='viridis')\n",
        "ax1.set_xlabel('x')\n",
        "ax1.set_ylabel('y')\n",
        "ax1.set_zlabel('z')\n",
        "z = np.exp(-x)*(x + y**3)\n",
        "ax2 = fig.add_subplot(1, 3, 2, projection='3d')\n",
        "ax2.contour3D(x, y, z, 50, cmap='viridis')\n",
        "ax2.set_xlabel('x')\n",
        "ax2.set_ylabel('y')\n",
        "ax2.set_zlabel('z')\n",
        "ax3 = fig.add_subplot(1, 3, 3, projection='3d')\n",
        "ax3.contour3D(x, y, (z - prediction)**2, 50, cmap='viridis')\n"
      ],
      "metadata": {
        "pycharm": {
          "name": "#%%\n"
        },
        "id": "ERk64vhGlI7K"
      }
    },
    {
      "cell_type": "code",
      "execution_count": 11,
      "outputs": [],
      "source": [
        "# Now working with the modified model\n",
        "\n",
        "# define common used parameters\n",
        "\n",
        "# training points\n",
        "\n",
        "n_training_list = [16]\n",
        "space_range = [0, 1]\n",
        "\n",
        "# parameters for training\n",
        "\n",
        "H = 128\n",
        "batch_size = 16\n",
        "num_epochs = 100\n",
        "lr = 0.01\n",
        "lr_decay_steps = int(num_epochs/10)\n",
        "lr_decay_rate = 0.5\n",
        "\n",
        "# dimension of variable and number of equations in the system\n",
        "\n",
        "n_inputs = 3\n",
        "n_outputs = 1"
      ],
      "metadata": {
        "pycharm": {
          "name": "#%%\n"
        },
        "id": "kNTncCyPlI7L"
      }
    },
    {
      "cell_type": "code",
      "execution_count": 12,
      "outputs": [
        {
          "output_type": "stream",
          "name": "stdout",
          "text": [
            "Epochs 10/100. Loss: 0.01683240.\n",
            "Epochs 20/100. Loss: 0.01633186.\n",
            "Epochs 30/100. Loss: 0.01548493.\n",
            "Epochs 40/100. Loss: 0.01531767.\n",
            "Epochs 50/100. Loss: 0.01524671.\n",
            "Epochs 60/100. Loss: 0.01517287.\n",
            "Epochs 70/100. Loss: 0.01514551.\n",
            "Epochs 80/100. Loss: 0.01512546.\n",
            "Epochs 90/100. Loss: 0.01511393.\n",
            "Epochs 100/100. Loss: 0.01510822.\n"
          ]
        }
      ],
      "source": [
        "# define the transform and the loss function for modified model\n",
        "\n",
        "def prediction2output(inputs, model):\n",
        "\n",
        "    prediction = model(inputs)\n",
        "    x = inputs[:, 0].reshape(len(inputs), 1)\n",
        "    y = inputs[:, 1].reshape(len(inputs), 1)\n",
        "    z = inputs[:, 2].reshape(len(inputs), 1)\n",
        "    output = x*(1-x)*y*(1-y)*z*(1-z)*prediction\n",
        "        # ((1 - x)*y**3 + x*(1 + y**3)*torch.exp(-torch.ones(1, 1)) + (1 - y)*x*(torch.exp(-x) - torch.exp(-torch.ones(1, 1)))\n",
        "        #       + y*((1 + x)*torch.exp(-x) - (1 - x + 2*x*torch.exp(-torch.ones(1, 1))))).reshape(len(prediction), 1) + x*(1 - x)*y*(1 - y)*prediction\n",
        "\n",
        "    return output\n",
        "\n",
        "def loss_modified(batch_all, prediction2output, model):\n",
        "\n",
        "        # compute the predicted y in the interior and on the boundary\n",
        "    output = prediction2output(batch_all, model)\n",
        "\n",
        "    # compute the gradient of y_hat w.r.t. x\n",
        "    grad = torch.autograd.grad(output, batch_all, grad_outputs=torch.ones_like(output),\n",
        "                               retain_graph=True, create_graph=True)[0]\n",
        "    hess = torch.autograd.grad(grad, batch_all, grad_outputs=torch.ones_like(grad),\n",
        "                               retain_graph=True, create_graph=True)[0]\n",
        "\n",
        "    # loss = interior_difference**2 + boundary_difference**2\n",
        "    # loss = ((hess[:, 0] + hess[:, 1] + hess[:, 2] - (\n",
        "    #         -2000*batch_all[:, 1]*(1-batch_all[:, 1])*batch_all[:, 2]*(1-batch_all[:, 2])\n",
        "    #         -2000*batch_all[:, 0]*(1-batch_all[:, 0])*batch_all[:, 2]*(1-batch_all[:, 2])\n",
        "    #          -2000*batch_all[:, 0]*(1-batch_all[:, 0])*batch_all[:, 1]*(1-batch_all[:, 1])))**2).mean()\n",
        "    loss = ((hess[:, 0] + hess[:, 1] + hess[:, 2] - (\n",
        "            -2*batch_all[:, 1]*(1-batch_all[:, 1])*batch_all[:, 2]*(1-batch_all[:, 2])\n",
        "            -2*batch_all[:, 0]*(1-batch_all[:, 0])*batch_all[:, 2]*(1-batch_all[:, 2])\n",
        "             -2*batch_all[:, 0]*(1-batch_all[:, 0])*batch_all[:, 1]*(1-batch_all[:, 1])) )**2).mean()\n",
        "\n",
        "    return loss\n",
        "\n",
        "models_modified = []\n",
        "\n",
        "for n in n_training_list:\n",
        "\n",
        "    train_loss_modified, model_modified = training_modified(loss_modified, prediction2output, n_inputs, n_outputs,\n",
        "                                                            n, num_epochs, batch_size,\n",
        "                                                            H, lr, lr_decay_steps, lr_decay_rate)\n",
        "\n",
        "    models_modified.append(model_modified)"
      ],
      "metadata": {
        "pycharm": {
          "name": "#%%\n",
          "is_executing": true
        },
        "id": "SlXW2xEplI7M",
        "colab": {
          "base_uri": "https://localhost:8080/"
        },
        "outputId": "9b340702-eb26-409a-f5b1-a2c21e28695a"
      }
    },
    {
      "cell_type": "code",
      "execution_count": 15,
      "outputs": [
        {
          "output_type": "stream",
          "name": "stdout",
          "text": [
            "tensor(6.3100e-06, grad_fn=<MeanBackward0>)\n",
            "tensor([[0.0041],\n",
            "        [0.0030],\n",
            "        [0.0016],\n",
            "        [0.0000],\n",
            "        [0.0000],\n",
            "        [0.0014],\n",
            "        [0.0026],\n",
            "        [0.0036],\n",
            "        [0.0044],\n",
            "        [0.0050],\n",
            "        [0.0054],\n",
            "        [0.0056],\n",
            "        [0.0056],\n",
            "        [0.0054],\n",
            "        [0.0050],\n",
            "        [0.0044]])\n",
            "tensor([[0.0028],\n",
            "        [0.0021],\n",
            "        [0.0011],\n",
            "        [0.0000],\n",
            "        [0.0000],\n",
            "        [0.0003],\n",
            "        [0.0007],\n",
            "        [0.0013],\n",
            "        [0.0020],\n",
            "        [0.0026],\n",
            "        [0.0030],\n",
            "        [0.0033],\n",
            "        [0.0035],\n",
            "        [0.0035],\n",
            "        [0.0033],\n",
            "        [0.0030]], grad_fn=<SliceBackward0>)\n"
          ]
        }
      ],
      "source": [
        "n=16\n",
        "grid = torch.linspace(space_range[0], space_range[1], n)\n",
        "x, y, z = torch.meshgrid(grid, grid, grid, indexing='xy')\n",
        "grid_all = torch.cat((x.flatten().reshape(n**3, 1), y.flatten().reshape(n**3, 1),z.flatten().reshape(n**3, 1)), 1)\n",
        "output = prediction2output(grid_all, models_modified[-1])\n",
        "# print(sum(prediction)/n**3)\n",
        "\n",
        "x = x.flatten().reshape(n**3, 1)\n",
        "y = y.flatten().reshape(n**3, 1)\n",
        "z = z.flatten().reshape(n**3, 1)\n",
        "exact_sol = x*(1-x)*y*(1-y)*z*(1-z)\n",
        "# exact_sol = 1000*x*(1-x)*y*(1-y)*z*(1-z)\n",
        "# x = x[1331]\n",
        "# y = y[460]\n",
        "# z = z[548]\n",
        "# print(exact_sol - models_vanilla[0](torch.tensor((x,y,z))))\n",
        "print(((exact_sol - output)**2).mean())\n",
        "# print(((prediction)**2).mean())\n",
        "# print(exact_sol**2.mean())\n",
        "\n",
        "# it looks like the prediction mirrors the exact solution here but just doesn't vary enough\n",
        "print(exact_sol[3500:3516])\n",
        "print(output[3500:3516])\n",
        "# print(exact_sol[15000:15005] - prediction[15000:15005])\n",
        "# print(exact_sol[0:5] - prediction[0:5])"
      ],
      "metadata": {
        "pycharm": {
          "name": "#%%\n",
          "is_executing": true
        },
        "id": "rG2-JCcKlI7N",
        "colab": {
          "base_uri": "https://localhost:8080/"
        },
        "outputId": "26d988ea-3b5d-4818-b0b7-c240d5a740ac"
      }
    },
    {
      "cell_type": "code",
      "execution_count": 16,
      "outputs": [
        {
          "output_type": "stream",
          "name": "stdout",
          "text": [
            "tensor([0.1333, 0.0667, 0.8000])\n",
            "tensor([0.0012])\n",
            "tensor([0.0003], grad_fn=<SelectBackward0>)\n"
          ]
        }
      ],
      "source": [
        "print(grid_all[300])\n",
        "print(exact_sol[300])\n",
        "print(prediction2output(grid_all, models_modified[-1])[300])"
      ],
      "metadata": {
        "pycharm": {
          "name": "#%%\n"
        },
        "id": "INeGJ_3olI7N",
        "outputId": "f0c9be2c-3be0-431e-d6a9-b1dad564ed15",
        "colab": {
          "base_uri": "https://localhost:8080/"
        }
      }
    },
    {
      "cell_type": "code",
      "execution_count": null,
      "outputs": [],
      "source": [],
      "metadata": {
        "pycharm": {
          "name": "#%%\n"
        },
        "id": "Lxyummw6lI7O"
      }
    },
    {
      "cell_type": "code",
      "execution_count": null,
      "outputs": [],
      "source": [],
      "metadata": {
        "pycharm": {
          "name": "#%%\n"
        },
        "id": "g1CBSW2elI7P"
      }
    }
  ],
  "metadata": {
    "kernelspec": {
      "display_name": "Python 3",
      "language": "python",
      "name": "python3"
    },
    "language_info": {
      "codemirror_mode": {
        "name": "ipython",
        "version": 2
      },
      "file_extension": ".py",
      "mimetype": "text/x-python",
      "name": "python",
      "nbconvert_exporter": "python",
      "pygments_lexer": "ipython2",
      "version": "2.7.6"
    },
    "colab": {
      "provenance": []
    }
  },
  "nbformat": 4,
  "nbformat_minor": 0
}